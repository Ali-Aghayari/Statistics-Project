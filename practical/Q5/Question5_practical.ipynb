{
 "cells": [
  {
   "cell_type": "markdown",
   "id": "6541ac1f",
   "metadata": {},
   "source": [
    "# Question 5 practical"
   ]
  },
  {
   "cell_type": "code",
   "execution_count": 19,
   "id": "c8222527",
   "metadata": {},
   "outputs": [],
   "source": [
    "import numpy as np\n",
    "import scipy\n",
    "import math\n",
    "import matplotlib.pyplot as plt\n",
    "import networkx as nx"
   ]
  },
  {
   "cell_type": "markdown",
   "id": "0d5b4f7c",
   "metadata": {},
   "source": [
    "## question 17 \n",
    "from respective theorical question we concluded every cell of adjacency matrix is a bernouli random variable with p and all vetrice are binomial random varibale \n",
    "\n",
    "to initialize graph , we only need to fill matrix elements with result of bernouli rv"
   ]
  },
  {
   "cell_type": "code",
   "execution_count": 4,
   "id": "37e7cf16",
   "metadata": {},
   "outputs": [],
   "source": [
    "def init_graph(n , p):\n",
    "    g = [[0 for col in range(n)] for row in range(n)]\n",
    "    for row in range(n):\n",
    "        for col in range(n):\n",
    "            if (col>row):\n",
    "                g[row][col] = scipy.stats.bernoulli.rvs(p, loc=0 ,size=1 , random_state=None)[0]\n",
    "            elif (col<row):\n",
    "                g[row][col] = g[col][row]   # symmetric attribute of matrix\n",
    "    return g"
   ]
  },
  {
   "cell_type": "markdown",
   "id": "807efc46",
   "metadata": {},
   "source": [
    "let's count number of vertice in adjacency matrix of graph g"
   ]
  },
  {
   "cell_type": "code",
   "execution_count": 5,
   "id": "35e1dec1",
   "metadata": {},
   "outputs": [],
   "source": [
    "def cnt_adjacencies (g):\n",
    "    return (np.array(g)).sum() / 2"
   ]
  },
  {
   "cell_type": "markdown",
   "id": "28c63180",
   "metadata": {},
   "source": [
    "now let's apply above function N times"
   ]
  },
  {
   "cell_type": "code",
   "execution_count": 4,
   "id": "613a735f",
   "metadata": {},
   "outputs": [
    {
     "name": "stdout",
     "output_type": "stream",
     "text": [
      "1677.0\n",
      "1708.0\n",
      "1686.0\n",
      "1736.0\n",
      "1700.0\n",
      "1719.0\n",
      "1764.0\n",
      "1705.0\n",
      "1677.0\n",
      "1640.0\n",
      "1701.2\n"
     ]
    }
   ],
   "source": [
    "def sapply_N (N , n , p):\n",
    "    mean = 0\n",
    "    for i in range (N):\n",
    "        graph = init_graph(n, p)\n",
    "        cnt = cnt_adjacencies(graph)\n",
    "        print(cnt)\n",
    "        mean += cnt\n",
    "    print(mean/N)\n",
    "\n",
    "sapply_N (10 , 1000 , 0.0034)   "
   ]
  },
  {
   "cell_type": "markdown",
   "id": "5a247db2",
   "metadata": {},
   "source": [
    "#### from theorical question 23 we expected comb(n,2) * p which is 1698.3 for n=1000 and p=0.0034 and the final line of above code shows average counted is 1701.2 which is really close to expected value of 1698.3 (In fact it is in 95% trust interval of expected value)\n",
    " \n",
    "but the above results show that average calculated value of vertice is really lower than m"
   ]
  },
  {
   "cell_type": "markdown",
   "id": "e406ae1c",
   "metadata": {},
   "source": [
    "## question 18\n",
    "we will report average number of same colors using the definition of being from the same color\n",
    "\n",
    "then apply it to N graph initiated using init_graph"
   ]
  },
  {
   "cell_type": "code",
   "execution_count": 6,
   "id": "9e4cc36b",
   "metadata": {},
   "outputs": [],
   "source": [
    "def cnt_adjacents_of_vertex (g , v_index):\n",
    "    return (np.array(g)[v_index]).sum()\n",
    "\n",
    "def cnt_same_colors (g , p , n):\n",
    "    L = (n-1)*p\n",
    "    out = 0\n",
    "    for i in range(n):\n",
    "        if (cnt_adjacents_of_vertex(g, i) > L):\n",
    "            out += 1\n",
    "    return out\n"
   ]
  },
  {
   "cell_type": "code",
   "execution_count": 13,
   "id": "6703c625",
   "metadata": {},
   "outputs": [
    {
     "name": "stdout",
     "output_type": "stream",
     "text": [
      "19\n",
      "16\n",
      "18\n",
      "14\n",
      "22\n",
      "15\n",
      "16\n",
      "16\n",
      "13\n",
      "16\n",
      "16.5\n"
     ]
    }
   ],
   "source": [
    "def sapply_N_q18(N , n , p):\n",
    "    mean = 0\n",
    "    for i in range (N):\n",
    "        graph = init_graph(n, p)\n",
    "        cnt = cnt_same_colors(graph , p , n)\n",
    "        print(cnt)\n",
    "        mean += cnt\n",
    "    print(mean/N)\n",
    "\n",
    "sapply_N_q18(10 , 100 , 0.0016)"
   ]
  },
  {
   "cell_type": "markdown",
   "id": "3f06af36",
   "metadata": {},
   "source": [
    "to overcome time consuming problem, we used n=100 and p=0.0016 as input parameters"
   ]
  },
  {
   "cell_type": "markdown",
   "id": "359db161",
   "metadata": {},
   "source": [
    "# question 19\n",
    "we need to implement the definition of Transitive and chained. then we apply it N=5 times to a random graph created with init_graph and report average values"
   ]
  },
  {
   "cell_type": "code",
   "execution_count": 14,
   "id": "38174514",
   "metadata": {},
   "outputs": [],
   "source": [
    "def cnt_transitive_and_chained(g , n):\n",
    "    transitive = chained = 0\n",
    "    for row in range(n):\n",
    "        for col in range(row+1 , n):\n",
    "            val_to_add = 0\n",
    "            for s in range (n):\n",
    "                if (g[row][s]==1 & g[row][s] == g[col][s] & (s!=row & s!=col)):\n",
    "                    val_to_add = 1 \n",
    "            if g[row][col] == 1:\n",
    "                transitive += val_to_add\n",
    "            else:\n",
    "                chained += val_to_add\n",
    "    return transitive,chained"
   ]
  },
  {
   "cell_type": "markdown",
   "id": "2900207b",
   "metadata": {},
   "source": [
    "    the above function returns number of transitive and chained in order of n^3.\n",
    "    transitives are the main logic , if it is not transitve , then it must be chained    \n",
    "    we usually expect less transitve relations according to result of 29th and 30th theorical questions\n",
    "    the results below will show that better"
   ]
  },
  {
   "cell_type": "code",
   "execution_count": 15,
   "id": "e83fb315",
   "metadata": {},
   "outputs": [
    {
     "name": "stdout",
     "output_type": "stream",
     "text": [
      "mean_transitive :  46.2\n",
      "mean_chained :  4903.8\n"
     ]
    }
   ],
   "source": [
    "def sapply_N_q19(N , n , p):\n",
    "    mean_chained = mean_transitive = 0\n",
    "    for i in range (N):\n",
    "        graph = init_graph(n, p)\n",
    "        cnt1 , cnt2 = cnt_transitive_and_chained(graph, n)\n",
    "        mean_transitive += cnt1\n",
    "        mean_chained += cnt2\n",
    "    print(\"mean_transitive : \" , mean_transitive/N)\n",
    "    print(\"mean_chained : \" , mean_chained/N)\n",
    "\n",
    "sapply_N_q19(5, 100 , 0.01)"
   ]
  },
  {
   "cell_type": "markdown",
   "id": "20b601b9",
   "metadata": {},
   "source": [
    "## question 20\n",
    "let's consider a cluster with size of n=1000, we are going to find expected value of adjacent of adjacents of vertex in graph. first let's find number of adjacents of adjacents of a vertex using adjacency matrix of g"
   ]
  },
  {
   "cell_type": "code",
   "execution_count": 20,
   "id": "dc7f496c",
   "metadata": {},
   "outputs": [],
   "source": [
    "def cnt_adjacents_of_adjacents_vertex (g , n , v_index):\n",
    "    out = 0\n",
    "    row = np.array(g)[v_index,:]\n",
    "    for i in range(n):\n",
    "        if (row[i]==1): \n",
    "            out += cnt_adjacents_of_vertex(g, i)\n",
    "            # out -= 1    # adjacency with v_index is better not to be counted\n",
    "    return out   "
   ]
  },
  {
   "cell_type": "markdown",
   "id": "13dddfe9",
   "metadata": {},
   "source": [
    "not let us calculate average and report it to see if it is close to expected value of "
   ]
  },
  {
   "cell_type": "code",
   "execution_count": null,
   "id": "95a01c6c",
   "metadata": {},
   "outputs": [],
   "source": [
    "def sapply_N_q20 (N , n , p):\n",
    "    avg = 0\n",
    "    for i in range(N):\n",
    "        g = init_graph(n,p) \n",
    "        for j in range(n):\n",
    "            avg += cnt_adjacents_of_adjacents_vertex(g, n , j)\n",
    "        avg = avg / 2   # counted twice\n",
    "        print(avg / (2*n))    \n",
    "    retrun avg\n",
    "\n",
    "sapply_N_q20(1, 1000 , 0.003)"
   ]
  },
  {
   "cell_type": "markdown",
   "id": "8ffaed41",
   "metadata": {},
   "source": [
    "from theorical question 31, we expected the average number of adjacencies of adjacents will approximatly 62312\n",
    "the above code also produced a very close number to that which is acceptable"
   ]
  },
  {
   "cell_type": "markdown",
   "id": "c34820f0",
   "metadata": {},
   "source": [
    "## Question 21\n",
    "networkx package includes very usefull functions for such graphs. one of them is \n",
    "[average_shortest_path_length(G, weight=None, method=None)](https://networkx.org/documentation/stable/reference/algorithms/generated/networkx.algorithms.shortest_paths.generic.average_shortest_path_length.html#networkx.algorithms.shortest_paths.generic.average_shortest_path_length). \n",
    "we are going to implement this function\n",
    "\n",
    "**as defined by networkx developers , we have to be sure that graph is connected if not strongly connected. we would also implement this condition to reach a better and more reliable answear. also we should consider the fact that by reducing p and n , the chance of final graph being connected will be significantly small. to avoid such, we use a larger p and to avoid time consuming problem , some smaller n**"
   ]
  },
  {
   "cell_type": "code",
   "execution_count": 27,
   "id": "46c207d6",
   "metadata": {},
   "outputs": [],
   "source": [
    "def cnt_avg_dist_in_graph (g , n):\n",
    "    avg = 0\n",
    "    for i in range(n):\n",
    "        for j in range(n):\n",
    "            if (i==j):\n",
    "                continue\n",
    "            avg += nx.shortest_path_length(g,i,j)\n",
    "    return (avg / (n*(n-1)))\n",
    "\n",
    "# the algorithm is here :\n",
    "# https://networkx.org/documentation/stable/reference/algorithms/generated/networkx.algorithms.shortest_paths.generic.average_shortest_path_length.html#networkx.algorithms.shortest_paths.generic.average_shortest_path_length"
   ]
  },
  {
   "cell_type": "code",
   "execution_count": 29,
   "id": "892e210a",
   "metadata": {},
   "outputs": [
    {
     "name": "stdout",
     "output_type": "stream",
     "text": [
      "3.585858585858586\n"
     ]
    },
    {
     "data": {
      "image/png": "[encoded data removed]",
      "text/plain": [
       "<Figure size 640x480 with 1 Axes>"
      ]
     },
     "metadata": {},
     "output_type": "display_data"
    }
   ],
   "source": [
    "def sapply_N_q21(N , n , p):\n",
    "    for i in range(N):\n",
    "        g = nx.binomial_graph(n , p)\n",
    "        while (nx.is_connected(g) != 1):\n",
    "            g = nx.binomial_graph(n , p) # using init_graph is possible \n",
    "                                         # but one problem is converting g to networks graph\n",
    "                                         # networkx.convert_matrix.from_numpy_matrix is suggested by developers \n",
    "                                         # but it seems it is either deprecated or not available in normal packages !\n",
    "        # reached a connected graph of g\n",
    "        print(cnt_avg_dist_in_graph(g, n))\n",
    "        nx.draw(g)\n",
    "        plt.draw()\n",
    "        plt.show()\n",
    "\n",
    "# n=100 and p = 0.033 are used instead of n=1000 and p=0.0033 to reach a connected graph of g much faster\n",
    "sapply_N_q21(1 , 100 , 0.033)\n",
    "             "
   ]
  },
  {
   "cell_type": "markdown",
   "id": "c7e0c786",
   "metadata": {},
   "source": [
    "## Question 22 \n",
    "finding vertice i and j with maximum distance is simple. then we itearate on N and report average value:\n"
   ]
  },
  {
   "cell_type": "code",
   "execution_count": 13,
   "id": "d88b59fa",
   "metadata": {},
   "outputs": [],
   "source": [
    "def longest_path_length(g , n):\n",
    "    longest_path = 0\n",
    "    for i in range(n):\n",
    "        for j in range(n):\n",
    "            if (i==j):\n",
    "                continue\n",
    "            longest_path = max(nx.shortest_path_length(g,i,j) , longest_path)\n",
    "    return longest_path"
   ]
  },
  {
   "cell_type": "code",
   "execution_count": 18,
   "id": "2b1ebdf0",
   "metadata": {},
   "outputs": [
    {
     "name": "stdout",
     "output_type": "stream",
     "text": [
      "2.83\n"
     ]
    },
    {
     "data": {
      "text/plain": [
       "2.83"
      ]
     },
     "execution_count": 18,
     "metadata": {},
     "output_type": "execute_result"
    }
   ],
   "source": [
    "def sapply_N_q22(N , n , p):\n",
    "    avg = 0\n",
    "    for i in range(N):\n",
    "        g = nx.binomial_graph(n,p)\n",
    "        while (nx.is_connected(g) != 1):\n",
    "            g = nx.binomial_graph(n,p)\n",
    "        avg += longest_path_length(g,n)\n",
    "    print(avg / N)\n",
    "    return (avg / N)\n",
    "\n",
    "sapply_N_q22(100, 50 , 0.34)        "
   ]
  },
  {
   "cell_type": "markdown",
   "id": "81c41e2c",
   "metadata": {},
   "source": [
    "## Question 23\n",
    "simply iterate from 10 to 200 with steps 10 and apply the question 22 function"
   ]
  },
  {
   "cell_type": "code",
   "execution_count": 19,
   "id": "3cc534fe",
   "metadata": {},
   "outputs": [
    {
     "name": "stdout",
     "output_type": "stream",
     "text": [
      "3.69\n",
      "3.1\n",
      "3.0\n",
      "2.98\n",
      "2.82\n",
      "2.56\n",
      "2.27\n",
      "2.1\n",
      "2.11\n",
      "2.01\n",
      "2.02\n",
      "2.0\n",
      "2.0\n",
      "2.0\n",
      "2.0\n",
      "2.0\n",
      "2.0\n",
      "2.0\n",
      "2.0\n",
      "2.0\n"
     ]
    },
    {
     "data": {
      "image/png": "[encoded data removed]",
      "text/plain": [
       "<Figure size 640x480 with 1 Axes>"
      ]
     },
     "metadata": {},
     "output_type": "display_data"
    }
   ],
   "source": [
    "pair = []\n",
    "longest_path = []\n",
    "for n in range (10 , 201 , 10):\n",
    "    pair.append(n)\n",
    "    longest_path.append(sapply_N_q22(100, n, 0.34))\n",
    "\n",
    "plt.stem(pair , longest_path)\n",
    "plt.draw()\n",
    "plt.show()"
   ]
  },
  {
   "cell_type": "markdown",
   "id": "bec0a42b",
   "metadata": {},
   "source": [
    "* stem diagram is decreasing and converging to 2.0 which means by increasing size of cluster , every two indivisuals will know eachother by at least 2 relatives"
   ]
  },
  {
   "cell_type": "markdown",
   "id": "3c1b11fb",
   "metadata": {},
   "source": [
    "## Question 24\n",
    "a triangle adjacency is very similar to transitivity in graph. in fact we used this triangles in theorical practice 31 to calculate expeted value of transitive relations in graph. there is one subtle problem here, input matrix of sapply_N_q20 was a simple numpy array or simple python array but here it should be networksx graph. as seen in above codes, converting adjacency matrixes could be helpful to reduce code redundancy. but it seems networkx convert functions are not that reliable so let's rewrite the code of question 20 for networkx graph again:"
   ]
  },
  {
   "cell_type": "code",
   "execution_count": 1,
   "id": "d2f0ec6c",
   "metadata": {},
   "outputs": [],
   "source": [
    "# question 20 function rewritten for graphs not using convert instructions\n",
    "def cnt_relation_triangles_graph (g , n):\n",
    "    out = 0\n",
    "    for i in range(n):\n",
    "        for j in range(i+1 , n):\n",
    "            if (g.has_edge(i,j)==0):\n",
    "                continue\n",
    "            for k in range (j+1 , n):\n",
    "                if (g.has_edge(i,j)==g.has_edge(j,k) & g.has_edge(j,k)==g.has_edge(i,k)):\n",
    "                    out += 1\n",
    "    return out"
   ]
  },
  {
   "cell_type": "code",
   "execution_count": 13,
   "id": "4c3e96f3",
   "metadata": {},
   "outputs": [
    {
     "name": "stdout",
     "output_type": "stream",
     "text": [
      "6414.22\n"
     ]
    }
   ],
   "source": [
    "def sapply_N_q24(N, n, p):\n",
    "    avg = 0\n",
    "    for i in range(N):\n",
    "        g = nx.binomial_graph(n , p)\n",
    "        while (nx.is_connected(g) != 1):\n",
    "            g = nx.binomial_graph(n , p)\n",
    "        avg += cnt_relation_triangles_graph(g, n)\n",
    "    print(avg/N)\n",
    "\n",
    "sapply_N_q24(100 , 100 , 0.34)"
   ]
  },
  {
   "cell_type": "markdown",
   "id": "fa998912",
   "metadata": {},
   "source": [
    "the result is very similar to result of doing same operation using question 20 function"
   ]
  },
  {
   "cell_type": "markdown",
   "id": "24c63a4c",
   "metadata": {},
   "source": [
    "## Question 25\n",
    "p is a function n, using the code above, we write another sapply function for it\n",
    "\n",
    "**out machine is not powerfull enough to calculate for n>=60 properly so we used the almighty [google collab](https://colab.research.google.com/) to plot the data. the plot created is as below :**"
   ]
  },
  {
   "cell_type": "code",
   "execution_count": 18,
   "id": "e6c12393",
   "metadata": {},
   "outputs": [],
   "source": [
    "# please note the plot below is a result of runnig this cell but not on our machine\n",
    "\n",
    "def sapply_q25():\n",
    "    x = []\n",
    "    y = []\n",
    "    for n in range (10 , 51 , 10):\n",
    "        x.append(n)\n",
    "        y.append(sapply_N_q24(1, n, 60/(n**2)))\n",
    "    plt.stem(x,y)\n",
    "    plt.draw()\n",
    "    plt.show()\n",
    "sapply_q25()\n"
   ]
  },
  {
   "attachments": {
    "q25.png": {
     "image/png": "[encoded data removed]"
    }
   },
   "cell_type": "markdown",
   "id": "c5fd3795",
   "metadata": {},
   "source": [
    "![q25.png](attachment:q25.png)"
   ]
  },
  {
   "cell_type": "markdown",
   "id": "360c662f",
   "metadata": {},
   "source": [
    "the result of above code shows that average number of triangle relations (transitivity) is converging to 0. normally, we expect by increasing number of vertice, the average of triangles also increases; however p is decreasing much faster than n increases. the fact that p growth order is of n^(-2) and growth rate of n is linear, creates a decreasing average number of triangles."
   ]
  },
  {
   "cell_type": "markdown",
   "id": "56d719a2",
   "metadata": {},
   "source": [
    "## Question 26\n",
    "this time, p is constant. by increasing the number of vertice, we expect to see more average number of triangles. let's run this code below and check it:"
   ]
  },
  {
   "cell_type": "code",
   "execution_count": 20,
   "id": "02ce7691",
   "metadata": {},
   "outputs": [
    {
     "name": "stdout",
     "output_type": "stream",
     "text": [
      "9.0\n",
      "46.0\n",
      "176.0\n",
      "381.0\n",
      "696.0\n",
      "1249.0\n",
      "1943.0\n",
      "3436.0\n",
      "4661.0\n",
      "6158.0\n"
     ]
    },
    {
     "ename": "TypeError",
     "evalue": "'<=' not supported between instances of 'NoneType' and 'NoneType'",
     "output_type": "error",
     "traceback": [
      "\u001b[1;31m---------------------------------------------------------------------------\u001b[0m",
      "\u001b[1;31mTypeError\u001b[0m                                 Traceback (most recent call last)",
      "\u001b[1;32m~\\AppData\\Local\\Temp\\ipykernel_11044\\598047193.py\u001b[0m in \u001b[0;36m<module>\u001b[1;34m\u001b[0m\n\u001b[0;32m      9\u001b[0m     \u001b[0mplt\u001b[0m\u001b[1;33m.\u001b[0m\u001b[0mshow\u001b[0m\u001b[1;33m(\u001b[0m\u001b[1;33m)\u001b[0m\u001b[1;33m\u001b[0m\u001b[1;33m\u001b[0m\u001b[0m\n\u001b[0;32m     10\u001b[0m \u001b[1;33m\u001b[0m\u001b[0m\n\u001b[1;32m---> 11\u001b[1;33m \u001b[0msapply_q26\u001b[0m\u001b[1;33m(\u001b[0m\u001b[1;36m0.34\u001b[0m\u001b[1;33m)\u001b[0m\u001b[1;33m\u001b[0m\u001b[1;33m\u001b[0m\u001b[0m\n\u001b[0m",
      "\u001b[1;32m~\\AppData\\Local\\Temp\\ipykernel_11044\\598047193.py\u001b[0m in \u001b[0;36msapply_q26\u001b[1;34m(p)\u001b[0m\n\u001b[0;32m      5\u001b[0m         \u001b[0mx\u001b[0m\u001b[1;33m.\u001b[0m\u001b[0mappend\u001b[0m\u001b[1;33m(\u001b[0m\u001b[0mn\u001b[0m\u001b[1;33m)\u001b[0m\u001b[1;33m\u001b[0m\u001b[1;33m\u001b[0m\u001b[0m\n\u001b[0;32m      6\u001b[0m         \u001b[0my\u001b[0m\u001b[1;33m.\u001b[0m\u001b[0mappend\u001b[0m\u001b[1;33m(\u001b[0m\u001b[0msapply_N_q24\u001b[0m\u001b[1;33m(\u001b[0m\u001b[1;36m1\u001b[0m\u001b[1;33m,\u001b[0m \u001b[0mn\u001b[0m\u001b[1;33m,\u001b[0m \u001b[0mp\u001b[0m\u001b[1;33m)\u001b[0m\u001b[1;33m)\u001b[0m\u001b[1;33m\u001b[0m\u001b[1;33m\u001b[0m\u001b[0m\n\u001b[1;32m----> 7\u001b[1;33m     \u001b[0mplt\u001b[0m\u001b[1;33m.\u001b[0m\u001b[0mstem\u001b[0m\u001b[1;33m(\u001b[0m\u001b[0mx\u001b[0m\u001b[1;33m,\u001b[0m\u001b[0my\u001b[0m\u001b[1;33m)\u001b[0m\u001b[1;33m\u001b[0m\u001b[1;33m\u001b[0m\u001b[0m\n\u001b[0m\u001b[0;32m      8\u001b[0m     \u001b[0mplt\u001b[0m\u001b[1;33m.\u001b[0m\u001b[0mdraw\u001b[0m\u001b[1;33m(\u001b[0m\u001b[1;33m)\u001b[0m\u001b[1;33m\u001b[0m\u001b[1;33m\u001b[0m\u001b[0m\n\u001b[0;32m      9\u001b[0m     \u001b[0mplt\u001b[0m\u001b[1;33m.\u001b[0m\u001b[0mshow\u001b[0m\u001b[1;33m(\u001b[0m\u001b[1;33m)\u001b[0m\u001b[1;33m\u001b[0m\u001b[1;33m\u001b[0m\u001b[0m\n",
      "\u001b[1;32mD:\\Program Files\\anaconda3\\lib\\site-packages\\matplotlib\\pyplot.py\u001b[0m in \u001b[0;36mstem\u001b[1;34m(linefmt, markerfmt, basefmt, bottom, label, use_line_collection, orientation, data, *args)\u001b[0m\n\u001b[0;32m   2883\u001b[0m         \u001b[0mlabel\u001b[0m\u001b[1;33m=\u001b[0m\u001b[1;32mNone\u001b[0m\u001b[1;33m,\u001b[0m \u001b[0muse_line_collection\u001b[0m\u001b[1;33m=\u001b[0m\u001b[1;32mTrue\u001b[0m\u001b[1;33m,\u001b[0m \u001b[0morientation\u001b[0m\u001b[1;33m=\u001b[0m\u001b[1;34m'vertical'\u001b[0m\u001b[1;33m,\u001b[0m\u001b[1;33m\u001b[0m\u001b[1;33m\u001b[0m\u001b[0m\n\u001b[0;32m   2884\u001b[0m         data=None):\n\u001b[1;32m-> 2885\u001b[1;33m     return gca().stem(\n\u001b[0m\u001b[0;32m   2886\u001b[0m         \u001b[1;33m*\u001b[0m\u001b[0margs\u001b[0m\u001b[1;33m,\u001b[0m \u001b[0mlinefmt\u001b[0m\u001b[1;33m=\u001b[0m\u001b[0mlinefmt\u001b[0m\u001b[1;33m,\u001b[0m \u001b[0mmarkerfmt\u001b[0m\u001b[1;33m=\u001b[0m\u001b[0mmarkerfmt\u001b[0m\u001b[1;33m,\u001b[0m \u001b[0mbasefmt\u001b[0m\u001b[1;33m=\u001b[0m\u001b[0mbasefmt\u001b[0m\u001b[1;33m,\u001b[0m\u001b[1;33m\u001b[0m\u001b[1;33m\u001b[0m\u001b[0m\n\u001b[0;32m   2887\u001b[0m         \u001b[0mbottom\u001b[0m\u001b[1;33m=\u001b[0m\u001b[0mbottom\u001b[0m\u001b[1;33m,\u001b[0m \u001b[0mlabel\u001b[0m\u001b[1;33m=\u001b[0m\u001b[0mlabel\u001b[0m\u001b[1;33m,\u001b[0m\u001b[1;33m\u001b[0m\u001b[1;33m\u001b[0m\u001b[0m\n",
      "\u001b[1;32mD:\\Program Files\\anaconda3\\lib\\site-packages\\matplotlib\\__init__.py\u001b[0m in \u001b[0;36minner\u001b[1;34m(ax, data, *args, **kwargs)\u001b[0m\n\u001b[0;32m   1410\u001b[0m     \u001b[1;32mdef\u001b[0m \u001b[0minner\u001b[0m\u001b[1;33m(\u001b[0m\u001b[0max\u001b[0m\u001b[1;33m,\u001b[0m \u001b[1;33m*\u001b[0m\u001b[0margs\u001b[0m\u001b[1;33m,\u001b[0m \u001b[0mdata\u001b[0m\u001b[1;33m=\u001b[0m\u001b[1;32mNone\u001b[0m\u001b[1;33m,\u001b[0m \u001b[1;33m**\u001b[0m\u001b[0mkwargs\u001b[0m\u001b[1;33m)\u001b[0m\u001b[1;33m:\u001b[0m\u001b[1;33m\u001b[0m\u001b[1;33m\u001b[0m\u001b[0m\n\u001b[0;32m   1411\u001b[0m         \u001b[1;32mif\u001b[0m \u001b[0mdata\u001b[0m \u001b[1;32mis\u001b[0m \u001b[1;32mNone\u001b[0m\u001b[1;33m:\u001b[0m\u001b[1;33m\u001b[0m\u001b[1;33m\u001b[0m\u001b[0m\n\u001b[1;32m-> 1412\u001b[1;33m             \u001b[1;32mreturn\u001b[0m \u001b[0mfunc\u001b[0m\u001b[1;33m(\u001b[0m\u001b[0max\u001b[0m\u001b[1;33m,\u001b[0m \u001b[1;33m*\u001b[0m\u001b[0mmap\u001b[0m\u001b[1;33m(\u001b[0m\u001b[0msanitize_sequence\u001b[0m\u001b[1;33m,\u001b[0m \u001b[0margs\u001b[0m\u001b[1;33m)\u001b[0m\u001b[1;33m,\u001b[0m \u001b[1;33m**\u001b[0m\u001b[0mkwargs\u001b[0m\u001b[1;33m)\u001b[0m\u001b[1;33m\u001b[0m\u001b[1;33m\u001b[0m\u001b[0m\n\u001b[0m\u001b[0;32m   1413\u001b[0m \u001b[1;33m\u001b[0m\u001b[0m\n\u001b[0;32m   1414\u001b[0m         \u001b[0mbound\u001b[0m \u001b[1;33m=\u001b[0m \u001b[0mnew_sig\u001b[0m\u001b[1;33m.\u001b[0m\u001b[0mbind\u001b[0m\u001b[1;33m(\u001b[0m\u001b[0max\u001b[0m\u001b[1;33m,\u001b[0m \u001b[1;33m*\u001b[0m\u001b[0margs\u001b[0m\u001b[1;33m,\u001b[0m \u001b[1;33m**\u001b[0m\u001b[0mkwargs\u001b[0m\u001b[1;33m)\u001b[0m\u001b[1;33m\u001b[0m\u001b[1;33m\u001b[0m\u001b[0m\n",
      "\u001b[1;32mD:\\Program Files\\anaconda3\\lib\\site-packages\\matplotlib\\axes\\_axes.py\u001b[0m in \u001b[0;36mstem\u001b[1;34m(self, linefmt, markerfmt, basefmt, bottom, label, use_line_collection, orientation, *args)\u001b[0m\n\u001b[0;32m   2888\u001b[0m                 \u001b[0mlinestyle\u001b[0m \u001b[1;33m=\u001b[0m \u001b[0mrcParams\u001b[0m\u001b[1;33m[\u001b[0m\u001b[1;34m'lines.linestyle'\u001b[0m\u001b[1;33m]\u001b[0m\u001b[1;33m\u001b[0m\u001b[1;33m\u001b[0m\u001b[0m\n\u001b[0;32m   2889\u001b[0m             \u001b[0mxlines\u001b[0m \u001b[1;33m=\u001b[0m \u001b[0mself\u001b[0m\u001b[1;33m.\u001b[0m\u001b[0mvlines\u001b[0m \u001b[1;32mif\u001b[0m \u001b[0morientation\u001b[0m \u001b[1;33m==\u001b[0m \u001b[1;34m\"vertical\"\u001b[0m \u001b[1;32melse\u001b[0m \u001b[0mself\u001b[0m\u001b[1;33m.\u001b[0m\u001b[0mhlines\u001b[0m\u001b[1;33m\u001b[0m\u001b[1;33m\u001b[0m\u001b[0m\n\u001b[1;32m-> 2890\u001b[1;33m             stemlines = xlines(\n\u001b[0m\u001b[0;32m   2891\u001b[0m                 \u001b[0mlocs\u001b[0m\u001b[1;33m,\u001b[0m \u001b[0mbottom\u001b[0m\u001b[1;33m,\u001b[0m \u001b[0mheads\u001b[0m\u001b[1;33m,\u001b[0m\u001b[1;33m\u001b[0m\u001b[1;33m\u001b[0m\u001b[0m\n\u001b[0;32m   2892\u001b[0m                 colors=linecolor, linestyles=linestyle, label=\"_nolegend_\")\n",
      "\u001b[1;32mD:\\Program Files\\anaconda3\\lib\\site-packages\\matplotlib\\__init__.py\u001b[0m in \u001b[0;36minner\u001b[1;34m(ax, data, *args, **kwargs)\u001b[0m\n\u001b[0;32m   1410\u001b[0m     \u001b[1;32mdef\u001b[0m \u001b[0minner\u001b[0m\u001b[1;33m(\u001b[0m\u001b[0max\u001b[0m\u001b[1;33m,\u001b[0m \u001b[1;33m*\u001b[0m\u001b[0margs\u001b[0m\u001b[1;33m,\u001b[0m \u001b[0mdata\u001b[0m\u001b[1;33m=\u001b[0m\u001b[1;32mNone\u001b[0m\u001b[1;33m,\u001b[0m \u001b[1;33m**\u001b[0m\u001b[0mkwargs\u001b[0m\u001b[1;33m)\u001b[0m\u001b[1;33m:\u001b[0m\u001b[1;33m\u001b[0m\u001b[1;33m\u001b[0m\u001b[0m\n\u001b[0;32m   1411\u001b[0m         \u001b[1;32mif\u001b[0m \u001b[0mdata\u001b[0m \u001b[1;32mis\u001b[0m \u001b[1;32mNone\u001b[0m\u001b[1;33m:\u001b[0m\u001b[1;33m\u001b[0m\u001b[1;33m\u001b[0m\u001b[0m\n\u001b[1;32m-> 1412\u001b[1;33m             \u001b[1;32mreturn\u001b[0m \u001b[0mfunc\u001b[0m\u001b[1;33m(\u001b[0m\u001b[0max\u001b[0m\u001b[1;33m,\u001b[0m \u001b[1;33m*\u001b[0m\u001b[0mmap\u001b[0m\u001b[1;33m(\u001b[0m\u001b[0msanitize_sequence\u001b[0m\u001b[1;33m,\u001b[0m \u001b[0margs\u001b[0m\u001b[1;33m)\u001b[0m\u001b[1;33m,\u001b[0m \u001b[1;33m**\u001b[0m\u001b[0mkwargs\u001b[0m\u001b[1;33m)\u001b[0m\u001b[1;33m\u001b[0m\u001b[1;33m\u001b[0m\u001b[0m\n\u001b[0m\u001b[0;32m   1413\u001b[0m \u001b[1;33m\u001b[0m\u001b[0m\n\u001b[0;32m   1414\u001b[0m         \u001b[0mbound\u001b[0m \u001b[1;33m=\u001b[0m \u001b[0mnew_sig\u001b[0m\u001b[1;33m.\u001b[0m\u001b[0mbind\u001b[0m\u001b[1;33m(\u001b[0m\u001b[0max\u001b[0m\u001b[1;33m,\u001b[0m \u001b[1;33m*\u001b[0m\u001b[0margs\u001b[0m\u001b[1;33m,\u001b[0m \u001b[1;33m**\u001b[0m\u001b[0mkwargs\u001b[0m\u001b[1;33m)\u001b[0m\u001b[1;33m\u001b[0m\u001b[1;33m\u001b[0m\u001b[0m\n",
      "\u001b[1;32mD:\\Program Files\\anaconda3\\lib\\site-packages\\matplotlib\\axes\\_axes.py\u001b[0m in \u001b[0;36mvlines\u001b[1;34m(self, x, ymin, ymax, colors, linestyles, label, **kwargs)\u001b[0m\n\u001b[0;32m   1142\u001b[0m             \u001b[0mminx\u001b[0m \u001b[1;33m=\u001b[0m \u001b[0mx\u001b[0m\u001b[1;33m.\u001b[0m\u001b[0mmin\u001b[0m\u001b[1;33m(\u001b[0m\u001b[1;33m)\u001b[0m\u001b[1;33m\u001b[0m\u001b[1;33m\u001b[0m\u001b[0m\n\u001b[0;32m   1143\u001b[0m             \u001b[0mmaxx\u001b[0m \u001b[1;33m=\u001b[0m \u001b[0mx\u001b[0m\u001b[1;33m.\u001b[0m\u001b[0mmax\u001b[0m\u001b[1;33m(\u001b[0m\u001b[1;33m)\u001b[0m\u001b[1;33m\u001b[0m\u001b[1;33m\u001b[0m\u001b[0m\n\u001b[1;32m-> 1144\u001b[1;33m             \u001b[0mminy\u001b[0m \u001b[1;33m=\u001b[0m \u001b[0mmin\u001b[0m\u001b[1;33m(\u001b[0m\u001b[0mymin\u001b[0m\u001b[1;33m.\u001b[0m\u001b[0mmin\u001b[0m\u001b[1;33m(\u001b[0m\u001b[1;33m)\u001b[0m\u001b[1;33m,\u001b[0m \u001b[0mymax\u001b[0m\u001b[1;33m.\u001b[0m\u001b[0mmin\u001b[0m\u001b[1;33m(\u001b[0m\u001b[1;33m)\u001b[0m\u001b[1;33m)\u001b[0m\u001b[1;33m\u001b[0m\u001b[1;33m\u001b[0m\u001b[0m\n\u001b[0m\u001b[0;32m   1145\u001b[0m             \u001b[0mmaxy\u001b[0m \u001b[1;33m=\u001b[0m \u001b[0mmax\u001b[0m\u001b[1;33m(\u001b[0m\u001b[0mymin\u001b[0m\u001b[1;33m.\u001b[0m\u001b[0mmax\u001b[0m\u001b[1;33m(\u001b[0m\u001b[1;33m)\u001b[0m\u001b[1;33m,\u001b[0m \u001b[0mymax\u001b[0m\u001b[1;33m.\u001b[0m\u001b[0mmax\u001b[0m\u001b[1;33m(\u001b[0m\u001b[1;33m)\u001b[0m\u001b[1;33m)\u001b[0m\u001b[1;33m\u001b[0m\u001b[1;33m\u001b[0m\u001b[0m\n\u001b[0;32m   1146\u001b[0m \u001b[1;33m\u001b[0m\u001b[0m\n",
      "\u001b[1;32mD:\\Program Files\\anaconda3\\lib\\site-packages\\numpy\\core\\_methods.py\u001b[0m in \u001b[0;36m_amin\u001b[1;34m(a, axis, out, keepdims, initial, where)\u001b[0m\n\u001b[0;32m     42\u001b[0m def _amin(a, axis=None, out=None, keepdims=False,\n\u001b[0;32m     43\u001b[0m           initial=_NoValue, where=True):\n\u001b[1;32m---> 44\u001b[1;33m     \u001b[1;32mreturn\u001b[0m \u001b[0mumr_minimum\u001b[0m\u001b[1;33m(\u001b[0m\u001b[0ma\u001b[0m\u001b[1;33m,\u001b[0m \u001b[0maxis\u001b[0m\u001b[1;33m,\u001b[0m \u001b[1;32mNone\u001b[0m\u001b[1;33m,\u001b[0m \u001b[0mout\u001b[0m\u001b[1;33m,\u001b[0m \u001b[0mkeepdims\u001b[0m\u001b[1;33m,\u001b[0m \u001b[0minitial\u001b[0m\u001b[1;33m,\u001b[0m \u001b[0mwhere\u001b[0m\u001b[1;33m)\u001b[0m\u001b[1;33m\u001b[0m\u001b[1;33m\u001b[0m\u001b[0m\n\u001b[0m\u001b[0;32m     45\u001b[0m \u001b[1;33m\u001b[0m\u001b[0m\n\u001b[0;32m     46\u001b[0m def _sum(a, axis=None, dtype=None, out=None, keepdims=False,\n",
      "\u001b[1;31mTypeError\u001b[0m: '<=' not supported between instances of 'NoneType' and 'NoneType'"
     ]
    },
    {
     "data": {
      "image/png": "[encoded data removed]",
      "text/plain": [
       "<Figure size 640x480 with 1 Axes>"
      ]
     },
     "metadata": {},
     "output_type": "display_data"
    }
   ],
   "source": [
    "def sapply_q26(p):\n",
    "    x = []\n",
    "    y = []\n",
    "    for n in range (10 , 101 , 10):\n",
    "        x.append(n)\n",
    "        y.append(sapply_N_q24(1, n, p))\n",
    "    plt.stem(x,y)\n",
    "    plt.draw()\n",
    "    plt.show()\n",
    "\n",
    "sapply_q26(0.34)"
   ]
  },
  {
   "cell_type": "markdown",
   "id": "03ec9f04",
   "metadata": {},
   "source": [
    "the above plot approves our expectations. the average number of triangles in increasing"
   ]
  },
  {
   "cell_type": "markdown",
   "id": "ca762225",
   "metadata": {},
   "source": [
    "## Question 27\n",
    "predicting behaviour of average triangles is not that simple here. neither growth rate of n is larger nor growth rate of p so best way to understand is ploting the result.\n",
    "**but before that, increasing the value of p to 49/n wouldn't change behaviour of output but it will significantly help to reduce the time needed to calculate, so we used p=49/p ! we used google collab for this plot too**"
   ]
  },
  {
   "cell_type": "code",
   "execution_count": 22,
   "id": "f2bd9804",
   "metadata": {},
   "outputs": [],
   "source": [
    "def sapply_q27():\n",
    "    x = []\n",
    "    y = []\n",
    "    for n in range (50 , 1201 , 50):\n",
    "        x.append(n)\n",
    "        y.append(sapply_N_q24(1, n, 49/n))\n",
    "    plt.stem(x,y)\n",
    "    plt.draw()\n",
    "    plt.show()\n",
    "\n",
    "sapply_q27()"
   ]
  },
  {
   "attachments": {
    "q27_1.png": {
     "image/png": "[encoded data removed]"
    }
   },
   "cell_type": "markdown",
   "id": "388299be",
   "metadata": {},
   "source": [
    "![q27_1.png](attachment:q27_1.png)"
   ]
  },
  {
   "cell_type": "markdown",
   "id": "3228e10a",
   "metadata": {},
   "source": [
    "the plot above is not that helpfull! it is neither increasing nor decreasing. the above plot can remind us discrete uniform distribution.let's plot CDF to see if can help us or not.\n",
    "\n",
    "\n",
    "*we know CDF will be increasing, this comes from the definiton of CDF. all we want to observe is some abnormality in plot or some jumps*"
   ]
  },
  {
   "cell_type": "code",
   "execution_count": 24,
   "id": "6077eaff",
   "metadata": {},
   "outputs": [],
   "source": [
    "def sapply_q27_cdf():\n",
    "    x = []\n",
    "    y = []\n",
    "    cnt = 0\n",
    "    for n in range (50 , 1201 , 50):\n",
    "        x.append(n)\n",
    "        cnt += sapply_N_q24(1, n, 49/n)\n",
    "        y.append(cnt)\n",
    "    plt.stem(x,y)\n",
    "    plt.draw()\n",
    "    plt.show()\n",
    "\n",
    "sapply_q27_cdf()"
   ]
  },
  {
   "attachments": {
    "q27.png": {
     "image/png": "[encoded data removed]"
    }
   },
   "cell_type": "markdown",
   "id": "ed700b58",
   "metadata": {},
   "source": [
    "![q27_2.png](attachment:q27.png)\n",
    "\n",
    "something very strange has happend! CDF created is very similar to CDF of normal distribution. the same pattern will be seen for even larger n values. it seems that above values actually follow uniform distribution"
   ]
  }
 ],
 "metadata": {
  "kernelspec": {
   "display_name": "Python 3 (ipykernel)",
   "language": "python",
   "name": "python3"
  },
  "language_info": {
   "codemirror_mode": {
    "name": "ipython",
    "version": 3
   },
   "file_extension": ".py",
   "mimetype": "text/x-python",
   "name": "python",
   "nbconvert_exporter": "python",
   "pygments_lexer": "ipython3",
   "version": "3.9.13"
  }
 },
 "nbformat": 4,
 "nbformat_minor": 5
}
